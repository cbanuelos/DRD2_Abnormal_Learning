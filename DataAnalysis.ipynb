{
 "cells": [
  {
   "cell_type": "markdown",
   "metadata": {},
   "source": [
    "Data Analysis Plan\n",
    "---\n",
    "Goal: Test multiple models on the relationship between IGT scores & ventral striatal sensitivity between DRD2 carrier groups\n",
    "\n",
    "- Grab variables of interest\n",
    "    - P = D.P_payoff\n",
    "    - Q = D.Q_sensitivity \n",
    "    - VS = D.Cards_RNR_VS_mean \n",
    "    - AGE = D.AGE\n",
    "    - SEX = D.female_1\n",
    "    <br><br>\n",
    "- Filter to only get subjects who have data for P and VS, and who are white <br><br>\n",
    "    good=find(~isnan(VS) & ~isnan(P) & D.white_1)<br>\n",
    "    good_subs = zeros(size(AGE))<br>\n",
    "    good_subs(good) = 1<br>\n",
    "    N = length(D.AGE(good))<br>\n",
    "    <br>\n",
    "- Separate by DRD2 polymorphism<br><br>\n",
    "    1 = Del. carrier (low D2) <br>\n",
    "    0 = Ins/Ins (normal D2) <br>\n",
    "    drd2_high = find(good_subs & D.DRD2_score==1) <br>\n",
    "    drd2_low = find(good_subs & D.DRD2_score==0) <br>\n",
    "    <br>\n",
    "---\n",
    "\n",
    "Analysis pipeline:\n",
    "\n",
    "1. Demographic summary of groups:\n",
    "    - Age\n",
    "    - Sex\n",
    "    - N (number in each group)\n",
    "<br><br>\n",
    "2. Group (DRD2 group) differences in:\n",
    "    - VS\n",
    "    - P\n",
    "    - Q\n",
    "    \n",
    "         a.) visualize in graph <br>\n",
    "         b.) analyze with t-test\n",
    "<br><br>\n",
    "3. Separate P vs. VS regressions for each group\n",
    "    - Control for: Age & sex?\n"
   ]
  },
  {
   "cell_type": "code",
   "execution_count": 1,
   "metadata": {},
   "outputs": [
    {
     "ename": "SyntaxError",
     "evalue": "invalid syntax (<ipython-input-1-985761b27133>, line 1)",
     "output_type": "error",
     "traceback": [
      "\u001b[0;36m  File \u001b[0;32m\"<ipython-input-1-985761b27133>\"\u001b[0;36m, line \u001b[0;32m1\u001b[0m\n\u001b[0;31m    sklearn (sci kit learn)\u001b[0m\n\u001b[0m                   ^\u001b[0m\n\u001b[0;31mSyntaxError\u001b[0m\u001b[0;31m:\u001b[0m invalid syntax\n"
     ]
    }
   ],
   "source": [
    "#Use sklearn (sci kit learn)"
   ]
  },
  {
   "cell_type": "code",
   "execution_count": null,
   "metadata": {},
   "outputs": [],
   "source": []
  }
 ],
 "metadata": {
  "kernelspec": {
   "display_name": "Python 3",
   "language": "python",
   "name": "python3"
  },
  "language_info": {
   "codemirror_mode": {
    "name": "ipython",
    "version": 3
   },
   "file_extension": ".py",
   "mimetype": "text/x-python",
   "name": "python",
   "nbconvert_exporter": "python",
   "pygments_lexer": "ipython3",
   "version": "3.6.7"
  }
 },
 "nbformat": 4,
 "nbformat_minor": 2
}
